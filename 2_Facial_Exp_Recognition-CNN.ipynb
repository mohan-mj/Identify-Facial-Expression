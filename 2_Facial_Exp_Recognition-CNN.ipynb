{
 "cells": [
  {
   "cell_type": "code",
   "execution_count": 1,
   "metadata": {},
   "outputs": [
    {
     "name": "stderr",
     "output_type": "stream",
     "text": [
      "C:\\Users\\jmo4cob\\AppData\\Local\\conda\\conda\\envs\\tf35\\lib\\site-packages\\h5py\\__init__.py:36: FutureWarning: Conversion of the second argument of issubdtype from `float` to `np.floating` is deprecated. In future, it will be treated as `np.float64 == np.dtype(float).type`.\n",
      "  from ._conv import register_converters as _register_converters\n",
      "Using TensorFlow backend.\n",
      "C:\\Users\\jmo4cob\\AppData\\Local\\conda\\conda\\envs\\tf35\\lib\\site-packages\\sklearn\\cross_validation.py:41: DeprecationWarning: This module was deprecated in version 0.18 in favor of the model_selection module into which all the refactored classes and functions are moved. Also note that the interface of the new CV iterators are different from that of this module. This module will be removed in 0.20.\n",
      "  \"This module will be removed in 0.20.\", DeprecationWarning)\n"
     ]
    }
   ],
   "source": [
    "from keras.preprocessing.image import ImageDataGenerator\n",
    "from keras.models import Sequential\n",
    "from keras.layers import Conv2D, MaxPooling2D\n",
    "from keras.layers import Activation, Dropout, Flatten, Dense\n",
    "from keras.callbacks import EarlyStopping\n",
    "from sklearn.cross_validation import train_test_split\n",
    "import numpy as np\n",
    "import time\n",
    "import sys\n",
    "import json\n",
    "import time\n",
    "import datetime\n",
    "from keras.models import load_model"
   ]
  },
  {
   "cell_type": "code",
   "execution_count": 2,
   "metadata": {},
   "outputs": [],
   "source": [
    "def describe(X_shape, y_shape, batch_size, dropout, nb_epoch, conv_arch, dense):\n",
    "    print (' X_train shape: ', X_shape) # (n_sample, 1, 48, 48)\n",
    "    print (' y_train shape: ', y_shape) # (n_sample, n_categories)\n",
    "    print ('      img size: ', X_shape[2], X_shape[3])\n",
    "    print ('    batch size: ', batch_size)\n",
    "    print ('      nb_epoch: ', nb_epoch)\n",
    "    print ('       dropout: ', dropout)\n",
    "    print ('conv architect: ', conv_arch)\n",
    "    print ('neural network: ', dense)"
   ]
  },
  {
   "cell_type": "code",
   "execution_count": 3,
   "metadata": {},
   "outputs": [],
   "source": [
    "conv_arch=[(32,3),(64,3),(128,3)]\n",
    "dense=[64,2]\n",
    "dropout=0.5\n",
    "batch_size=128\n",
    "nb_epoch=100\n",
    "validation_split=0.2\n",
    "patience=5\n",
    "dirpath='model/'"
   ]
  },
  {
   "cell_type": "code",
   "execution_count": 4,
   "metadata": {},
   "outputs": [],
   "source": [
    "def logging(model, starttime, batch_size, nb_epoch, conv_arch,dense, dropout,\n",
    "            X_shape, y_shape, train_acc, val_acc, dirpath):\n",
    "    now = time.ctime()\n",
    "    model.save_weights('model/weights/{}'.format(now))\n",
    "    save_model(model.to_json(), now, dirpath)\n",
    "    save_config(model.get_config(), now, dirpath)\n",
    "    save_result(starttime, batch_size, nb_epoch, conv_arch, dense, dropout,\n",
    "                    X_shape, y_shape, train_acc, val_acc, dirpath)"
   ]
  },
  {
   "cell_type": "code",
   "execution_count": 5,
   "metadata": {},
   "outputs": [],
   "source": [
    "# import dataset:\n",
    "X_fname = 'dataset/X_train_data_Training.npy'\n",
    "y_fname = 'dataset/y_train_data_Training.npy'\n",
    "X_train = np.load(X_fname)\n",
    "y_train = np.load(y_fname)\n"
   ]
  },
  {
   "cell_type": "code",
   "execution_count": 6,
   "metadata": {},
   "outputs": [
    {
     "name": "stdout",
     "output_type": "stream",
     "text": [
      " X_train shape:  (28709, 48, 48, 1)\n",
      " y_train shape:  (28709, 6)\n",
      "      img size:  48 1\n",
      "    batch size:  128\n",
      "      nb_epoch:  100\n",
      "       dropout:  0.5\n",
      "conv architect:  [(32, 3), (64, 3), (128, 3)]\n",
      "neural network:  [64, 2]\n"
     ]
    }
   ],
   "source": [
    "starttime = time.time()\n",
    "X_train = X_train.astype('float32')\n",
    "X_shape = X_train.shape\n",
    "y_shape = y_train.shape\n",
    "describe(X_shape, y_shape, batch_size, dropout, nb_epoch, conv_arch, dense)"
   ]
  },
  {
   "cell_type": "code",
   "execution_count": 18,
   "metadata": {},
   "outputs": [],
   "source": [
    "# train_tensors = X_train.astype('float32')/255\n",
    "# valid_tensors = paths_to_tensor(valid_files).astype('float32')/255\n",
    "# test_tensors = paths_to_tensor(test_files).astype('float32')/255"
   ]
  },
  {
   "cell_type": "code",
   "execution_count": 7,
   "metadata": {},
   "outputs": [],
   "source": [
    "model = Sequential()\n",
    "model.add(Conv2D(32, 3, strides=(1, 1), padding='same', data_format='channels_last', \n",
    "                    activation='relu', input_shape=(48, 48, 1)))\n",
    "for i in range(conv_arch[0][1]-1):\n",
    "    model.add(Conv2D(conv_arch[0][0], 3, strides=(1, 1), padding='same', data_format='channels_last', activation='relu' ))\n",
    "model.add(MaxPooling2D(pool_size=(2, 2), padding='valid'))\n",
    "\n",
    "for i in range(conv_arch[1][1]):\n",
    "    model.add(Conv2D(conv_arch[1][0], 3, strides=(1, 1), padding='same', data_format='channels_last', activation='relu' ))\n",
    "model.add(MaxPooling2D(pool_size=(2, 2), padding='valid'))\n",
    "\n",
    "for i in range(conv_arch[2][1]):\n",
    "    model.add(Conv2D(conv_arch[2][0], 3, strides=(1, 1), padding='valid', data_format='channels_last', activation='relu' ))\n",
    "model.add(MaxPooling2D(pool_size=(2, 2), padding='valid'))\n",
    "\n",
    "model.add(Flatten())\n",
    "\n",
    "for i in range(dense[1]):\n",
    "    model.add(Dense(dense[0], activation='relu'))\n",
    "    model.add(Dropout(dropout))\n",
    "    \n",
    "model.add(Dense(y_train.shape[1], activation='softmax'))"
   ]
  },
  {
   "cell_type": "code",
   "execution_count": 8,
   "metadata": {},
   "outputs": [],
   "source": [
    "# optimizer:\n",
    "model.compile(loss='categorical_crossentropy', optimizer='adam', metrics=['accuracy'])"
   ]
  },
  {
   "cell_type": "code",
   "execution_count": 9,
   "metadata": {},
   "outputs": [
    {
     "name": "stdout",
     "output_type": "stream",
     "text": [
      "_________________________________________________________________\n",
      "Layer (type)                 Output Shape              Param #   \n",
      "=================================================================\n",
      "conv2d_1 (Conv2D)            (None, 48, 48, 32)        320       \n",
      "_________________________________________________________________\n",
      "conv2d_2 (Conv2D)            (None, 48, 48, 32)        9248      \n",
      "_________________________________________________________________\n",
      "conv2d_3 (Conv2D)            (None, 48, 48, 32)        9248      \n",
      "_________________________________________________________________\n",
      "max_pooling2d_1 (MaxPooling2 (None, 24, 24, 32)        0         \n",
      "_________________________________________________________________\n",
      "conv2d_4 (Conv2D)            (None, 24, 24, 64)        18496     \n",
      "_________________________________________________________________\n",
      "conv2d_5 (Conv2D)            (None, 24, 24, 64)        36928     \n",
      "_________________________________________________________________\n",
      "conv2d_6 (Conv2D)            (None, 24, 24, 64)        36928     \n",
      "_________________________________________________________________\n",
      "max_pooling2d_2 (MaxPooling2 (None, 12, 12, 64)        0         \n",
      "_________________________________________________________________\n",
      "conv2d_7 (Conv2D)            (None, 10, 10, 128)       73856     \n",
      "_________________________________________________________________\n",
      "conv2d_8 (Conv2D)            (None, 8, 8, 128)         147584    \n",
      "_________________________________________________________________\n",
      "conv2d_9 (Conv2D)            (None, 6, 6, 128)         147584    \n",
      "_________________________________________________________________\n",
      "max_pooling2d_3 (MaxPooling2 (None, 3, 3, 128)         0         \n",
      "_________________________________________________________________\n",
      "flatten_1 (Flatten)          (None, 1152)              0         \n",
      "_________________________________________________________________\n",
      "dense_1 (Dense)              (None, 64)                73792     \n",
      "_________________________________________________________________\n",
      "dropout_1 (Dropout)          (None, 64)                0         \n",
      "_________________________________________________________________\n",
      "dense_2 (Dense)              (None, 64)                4160      \n",
      "_________________________________________________________________\n",
      "dropout_2 (Dropout)          (None, 64)                0         \n",
      "_________________________________________________________________\n",
      "dense_3 (Dense)              (None, 6)                 390       \n",
      "=================================================================\n",
      "Total params: 558,534\n",
      "Trainable params: 558,534\n",
      "Non-trainable params: 0\n",
      "_________________________________________________________________\n"
     ]
    }
   ],
   "source": [
    "model.summary()"
   ]
  },
  {
   "cell_type": "code",
   "execution_count": 10,
   "metadata": {},
   "outputs": [
    {
     "name": "stdout",
     "output_type": "stream",
     "text": [
      "Training....\n"
     ]
    },
    {
     "name": "stderr",
     "output_type": "stream",
     "text": [
      "C:\\Users\\jmo4cob\\AppData\\Local\\conda\\conda\\envs\\tf35\\lib\\site-packages\\keras\\models.py:848: UserWarning: The `nb_epoch` argument in `fit` has been renamed `epochs`.\n",
      "  warnings.warn('The `nb_epoch` argument in `fit` '\n"
     ]
    },
    {
     "name": "stdout",
     "output_type": "stream",
     "text": [
      "Train on 22967 samples, validate on 5742 samples\n",
      "Epoch 1/100\n",
      "22967/22967 [==============================] - 40s - loss: 1.7768 - acc: 0.2453 - val_loss: 1.7218 - val_acc: 0.2428\n",
      "Epoch 2/100\n",
      "22967/22967 [==============================] - 36s - loss: 1.6974 - acc: 0.2663 - val_loss: 1.6543 - val_acc: 0.3116\n",
      "Epoch 3/100\n",
      "22967/22967 [==============================] - 36s - loss: 1.6128 - acc: 0.3232 - val_loss: 1.5988 - val_acc: 0.3248\n",
      "Epoch 4/100\n",
      "22967/22967 [==============================] - 36s - loss: 1.5575 - acc: 0.3404 - val_loss: 1.5091 - val_acc: 0.3631\n",
      "Epoch 5/100\n",
      "22967/22967 [==============================] - 36s - loss: 1.5003 - acc: 0.3714 - val_loss: 1.4537 - val_acc: 0.4039\n",
      "Epoch 6/100\n",
      "22967/22967 [==============================] - 36s - loss: 1.4405 - acc: 0.3964 - val_loss: 1.4185 - val_acc: 0.4256\n",
      "Epoch 7/100\n",
      "22967/22967 [==============================] - 36s - loss: 1.3910 - acc: 0.4196 - val_loss: 1.3430 - val_acc: 0.4345\n",
      "Epoch 8/100\n",
      "22967/22967 [==============================] - 36s - loss: 1.3430 - acc: 0.4363 - val_loss: 1.3382 - val_acc: 0.4251\n",
      "Epoch 9/100\n",
      "22967/22967 [==============================] - 36s - loss: 1.2993 - acc: 0.4514 - val_loss: 1.2896 - val_acc: 0.4575\n",
      "Epoch 10/100\n",
      "22967/22967 [==============================] - 36s - loss: 1.2664 - acc: 0.4695 - val_loss: 1.2920 - val_acc: 0.4693\n",
      "Epoch 11/100\n",
      "22967/22967 [==============================] - 37s - loss: 1.2292 - acc: 0.4934 - val_loss: 1.3170 - val_acc: 0.4688\n",
      "Epoch 12/100\n",
      "22967/22967 [==============================] - 36s - loss: 1.1933 - acc: 0.5101 - val_loss: 1.2551 - val_acc: 0.5005\n",
      "Epoch 13/100\n",
      "22967/22967 [==============================] - 36s - loss: 1.1501 - acc: 0.5238 - val_loss: 1.2440 - val_acc: 0.5117\n",
      "Epoch 14/100\n",
      "22967/22967 [==============================] - 36s - loss: 1.1207 - acc: 0.5433 - val_loss: 1.2199 - val_acc: 0.5242: 2s - loss: 1.1211 -\n",
      "Epoch 15/100\n",
      "22967/22967 [==============================] - 36s - loss: 1.1067 - acc: 0.5523 - val_loss: 1.2222 - val_acc: 0.5246\n",
      "Epoch 16/100\n",
      "22967/22967 [==============================] - 36s - loss: 1.0581 - acc: 0.5733 - val_loss: 1.2110 - val_acc: 0.5350.5\n",
      "Epoch 17/100\n",
      "22967/22967 [==============================] - 36s - loss: 1.0257 - acc: 0.5915 - val_loss: 1.2604 - val_acc: 0.5305\n",
      "Epoch 18/100\n",
      "22967/22967 [==============================] - 36s - loss: 1.0071 - acc: 0.5955 - val_loss: 1.2534 - val_acc: 0.5345\n",
      "Epoch 19/100\n",
      "22967/22967 [==============================] - 36s - loss: 0.9870 - acc: 0.6079 - val_loss: 1.2494 - val_acc: 0.5286\n",
      "Epoch 20/100\n",
      "22967/22967 [==============================] - 36s - loss: 0.9335 - acc: 0.6296 - val_loss: 1.2806 - val_acc: 0.5146\n",
      "Epoch 21/100\n",
      "22967/22967 [==============================] - 36s - loss: 0.9206 - acc: 0.6332 - val_loss: 1.2786 - val_acc: 0.5458\n",
      "Epoch 22/100\n",
      "22967/22967 [==============================] - 36s - loss: 0.9069 - acc: 0.6413 - val_loss: 1.2666 - val_acc: 0.5470\n",
      "Epoch 00021: early stopping\n"
     ]
    }
   ],
   "source": [
    "# set callback:\n",
    "callbacks = []\n",
    "if patience != 0:\n",
    "    early_stopping = EarlyStopping(monitor='val_loss', patience=patience, verbose=1)\n",
    "    callbacks.append(early_stopping)\n",
    "\n",
    "print ('Training....')\n",
    "# fits the model on batches with real-time data augmentation:\n",
    "# hist = model.fit_generator(datagen.flow(X_train, y_train, batch_size=batch_size),\n",
    "#                 samples_per_epoch=len(X_train), nb_epoch=nb_epoch, validation_data=(X_test,y_test), callbacks=callbacks, verbose=1)\n",
    "\n",
    "'''without data augmentation'''\n",
    "hist = model.fit(X_train, y_train, nb_epoch=nb_epoch, batch_size=batch_size,\n",
    "          validation_split=validation_split, callbacks=callbacks, shuffle=True, verbose=1)"
   ]
  },
  {
   "cell_type": "code",
   "execution_count": 11,
   "metadata": {},
   "outputs": [
    {
     "name": "stdout",
     "output_type": "stream",
     "text": [
      "          Done!\n",
      "     Train acc:  0.6413114468559409\n",
      "Validation acc:  0.5470219434075803\n",
      " Overfit ratio:  0.8529739272382876\n"
     ]
    }
   ],
   "source": [
    "# model result:\n",
    "train_val_accuracy = hist.history\n",
    "train_acc = train_val_accuracy['acc']\n",
    "val_acc = train_val_accuracy['val_acc']\n",
    "print ('          Done!')\n",
    "print ('     Train acc: ', train_acc[-1])\n",
    "print ('Validation acc: ', val_acc[-1])\n",
    "print (' Overfit ratio: ', val_acc[-1]/train_acc[-1])"
   ]
  },
  {
   "cell_type": "code",
   "execution_count": null,
   "metadata": {},
   "outputs": [],
   "source": []
  },
  {
   "cell_type": "code",
   "execution_count": 12,
   "metadata": {},
   "outputs": [],
   "source": [
    "x = datetime.datetime.now()"
   ]
  },
  {
   "cell_type": "code",
   "execution_count": 13,
   "metadata": {},
   "outputs": [],
   "source": [
    "model.save('model/'+'model_on_'+str(x)[:-16]+'.h5')"
   ]
  },
  {
   "cell_type": "code",
   "execution_count": 14,
   "metadata": {},
   "outputs": [],
   "source": [
    "myModel = load_model('model/'+'model_on_'+str(x)[:-16]+'.h5')"
   ]
  },
  {
   "cell_type": "code",
   "execution_count": null,
   "metadata": {},
   "outputs": [],
   "source": []
  }
 ],
 "metadata": {
  "kernelspec": {
   "display_name": "Python [default]",
   "language": "python",
   "name": "python3"
  },
  "language_info": {
   "codemirror_mode": {
    "name": "ipython",
    "version": 3
   },
   "file_extension": ".py",
   "mimetype": "text/x-python",
   "name": "python",
   "nbconvert_exporter": "python",
   "pygments_lexer": "ipython3",
   "version": "3.5.5"
  }
 },
 "nbformat": 4,
 "nbformat_minor": 2
}
